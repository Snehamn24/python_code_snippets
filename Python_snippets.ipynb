{
  "nbformat": 4,
  "nbformat_minor": 0,
  "metadata": {
    "colab": {
      "provenance": [],
      "authorship_tag": "ABX9TyMHhAJyUuaLCFHB6zLKIKKN",
      "include_colab_link": true
    },
    "kernelspec": {
      "name": "python3",
      "display_name": "Python 3"
    },
    "language_info": {
      "name": "python"
    }
  },
  "cells": [
    {
      "cell_type": "markdown",
      "metadata": {
        "id": "view-in-github",
        "colab_type": "text"
      },
      "source": [
        "<a href=\"https://colab.research.google.com/github/Snehamn24/python_code_snippets/blob/main/Python_snippets.ipynb\" target=\"_parent\"><img src=\"https://colab.research.google.com/assets/colab-badge.svg\" alt=\"Open In Colab\"/></a>"
      ]
    },
    {
      "cell_type": "markdown",
      "source": [
        "# Python Code Snippets"
      ],
      "metadata": {
        "id": "JdLlYa5H_4uB"
      }
    },
    {
      "cell_type": "markdown",
      "source": [
        "## 1 . Condition"
      ],
      "metadata": {
        "id": "WTHYPZI0AHxd"
      }
    },
    {
      "cell_type": "code",
      "source": [
        "if(0.1+0.2==0.3):\n",
        "  print('True')\n",
        "else:\n",
        "  print('False')"
      ],
      "metadata": {
        "colab": {
          "base_uri": "https://localhost:8080/"
        },
        "id": "AdBVqzAoAP08",
        "outputId": "3ffb3983-302f-4928-9e2c-d3aa1bb03258"
      },
      "execution_count": 1,
      "outputs": [
        {
          "output_type": "stream",
          "name": "stdout",
          "text": [
            "False\n"
          ]
        }
      ]
    },
    {
      "cell_type": "markdown",
      "source": [
        "Why it prints False\n",
        "\n",
        "This is due to floating-point precision in Python (and most programming languages):\n",
        "\n",
        "0.1 and 0.2 cannot be represented exactly in binary floating-point.\n",
        "\n",
        "So 0.1 + 0.2 actually evaluates to something like 0.30000000000000004.\n",
        "\n",
        "This is not exactly equal to 0.3, so the condition fails."
      ],
      "metadata": {
        "id": "PtH3WkUjCPB2"
      }
    },
    {
      "cell_type": "markdown",
      "source": [
        "In order to get the True value we can go with the following code"
      ],
      "metadata": {
        "id": "v7fL2khjCbfl"
      }
    },
    {
      "cell_type": "code",
      "source": [
        "import math\n",
        "if(math.isclose(0.1+0.2,0.3)):\n",
        "  print(\"True\")\n",
        "else:\n",
        "  print(\"False\")"
      ],
      "metadata": {
        "colab": {
          "base_uri": "https://localhost:8080/"
        },
        "id": "hnyaFnhJChqQ",
        "outputId": "6f8e1425-ac9c-42ad-d878-2a9d84d9988e"
      },
      "execution_count": 2,
      "outputs": [
        {
          "output_type": "stream",
          "name": "stdout",
          "text": [
            "True\n"
          ]
        }
      ]
    },
    {
      "cell_type": "markdown",
      "source": [
        "2 . Moving the Zeros to the end of the list from the given list"
      ],
      "metadata": {
        "id": "hboaSMxVEGJC"
      }
    },
    {
      "cell_type": "code",
      "source": [
        "my_list = [1,2,0,3,0,4,5]\n",
        "\n",
        "for ele in my_list:\n",
        "  if ele==0:\n",
        "    my_list.remove(ele)\n",
        "    my_list.append(ele)\n",
        "\n",
        "print(my_list)"
      ],
      "metadata": {
        "colab": {
          "base_uri": "https://localhost:8080/"
        },
        "id": "eg2VFqNTEPft",
        "outputId": "71fd3383-a75c-44e7-de3f-c7dd6924a13b"
      },
      "execution_count": 3,
      "outputs": [
        {
          "output_type": "stream",
          "name": "stdout",
          "text": [
            "[1, 2, 3, 4, 5, 0, 0]\n"
          ]
        }
      ]
    },
    {
      "cell_type": "markdown",
      "source": [
        "3 . Division"
      ],
      "metadata": {
        "id": "GcZWrmaGEnjv"
      }
    },
    {
      "cell_type": "code",
      "source": [
        "a = 4.5\n",
        "b = 2\n",
        "print(a//b)"
      ],
      "metadata": {
        "colab": {
          "base_uri": "https://localhost:8080/"
        },
        "id": "5Xcea7GIExFm",
        "outputId": "dbcb8bb8-e114-42c2-e7c3-9ada68cc2da5"
      },
      "execution_count": 4,
      "outputs": [
        {
          "output_type": "stream",
          "name": "stdout",
          "text": [
            "2.0\n"
          ]
        }
      ]
    },
    {
      "cell_type": "markdown",
      "source": [
        "4 . Write a function that takes s sentence , and returns the longest even-length word in the sentence . Or if it has no even -length words , return \"00\"."
      ],
      "metadata": {
        "id": "PDw2ZH4OFJPG"
      }
    },
    {
      "cell_type": "code",
      "source": [],
      "metadata": {
        "id": "NpjR5VZtFlWY"
      },
      "execution_count": null,
      "outputs": []
    },
    {
      "cell_type": "markdown",
      "source": [
        "5 . Conditional"
      ],
      "metadata": {
        "id": "CwMINbT9Fqw5"
      }
    },
    {
      "cell_type": "code",
      "source": [
        "name = \"python\"\n",
        "\n",
        "if(name==\"java\" or name==\"css\"):\n",
        "  print(\"Yes\")\n",
        "else:\n",
        "  print(\"False\")"
      ],
      "metadata": {
        "colab": {
          "base_uri": "https://localhost:8080/"
        },
        "id": "qrJ9I6k5GG_K",
        "outputId": "7cc2faba-14c5-4328-8c25-cf77079fb648"
      },
      "execution_count": 5,
      "outputs": [
        {
          "output_type": "stream",
          "name": "stdout",
          "text": [
            "False\n"
          ]
        }
      ]
    },
    {
      "cell_type": "markdown",
      "source": [
        "6 . for-else in Python"
      ],
      "metadata": {
        "id": "My0qHDmpGX0H"
      }
    },
    {
      "cell_type": "code",
      "source": [
        "a = [1,2,3,4,5]\n",
        "\n",
        "for ele in a:\n",
        "  if(ele==3):\n",
        "    break\n",
        "else:\n",
        "  print(\"For else\")"
      ],
      "metadata": {
        "id": "KdqfNrcSGrTz"
      },
      "execution_count": 6,
      "outputs": []
    },
    {
      "cell_type": "code",
      "source": [
        "a = [1,2,3,4,5]\n",
        "\n",
        "for ele in a:\n",
        "  if(ele==3):\n",
        "    print(ele)\n",
        "else:\n",
        "  print(\"For else\")"
      ],
      "metadata": {
        "colab": {
          "base_uri": "https://localhost:8080/"
        },
        "id": "0GPUYFr7G2Oh",
        "outputId": "6812bb91-6438-4bcf-8f6d-3db7e8075f4c"
      },
      "execution_count": 7,
      "outputs": [
        {
          "output_type": "stream",
          "name": "stdout",
          "text": [
            "3\n",
            "For else\n"
          ]
        }
      ]
    },
    {
      "cell_type": "markdown",
      "source": [
        "How for-else works:\n",
        "\n",
        "The else block executes only if the loop completes normally (i.e., no break occurs).\n",
        "\n",
        "If break is executed, the else block is skipped."
      ],
      "metadata": {
        "id": "5PS66dlWIq2_"
      }
    },
    {
      "cell_type": "markdown",
      "source": [
        "# 7 . Reversing a String - Method 1"
      ],
      "metadata": {
        "id": "PacqsqxHneBG"
      }
    },
    {
      "cell_type": "code",
      "source": [
        "str = \"python\"\n",
        "print(\"original String \",str)\n",
        "\n",
        "reversed_str = str[::-1]\n",
        "print(\"reversed String \",reversed_str)\n"
      ],
      "metadata": {
        "colab": {
          "base_uri": "https://localhost:8080/"
        },
        "id": "Ry7A3ZkOIxzW",
        "outputId": "8639a29d-be39-41b6-d4d7-536d44281b6d"
      },
      "execution_count": 1,
      "outputs": [
        {
          "output_type": "stream",
          "name": "stdout",
          "text": [
            "original String  python\n",
            "reversed String  nohtyp\n"
          ]
        }
      ]
    },
    {
      "cell_type": "markdown",
      "source": [
        "Method 2 using the join and reversed ()\n",
        "\n"
      ],
      "metadata": {
        "id": "XnjVDtVmnZgf"
      }
    },
    {
      "cell_type": "code",
      "source": [
        "str = \"ABC\"\n",
        "\n",
        "reversed_string = ''.join(reversed(str))\n",
        "print(reversed_string)"
      ],
      "metadata": {
        "colab": {
          "base_uri": "https://localhost:8080/"
        },
        "id": "weGlUud1nNA6",
        "outputId": "41752e24-631c-4c57-a432-a1072091a711"
      },
      "execution_count": 4,
      "outputs": [
        {
          "output_type": "stream",
          "name": "stdout",
          "text": [
            "CBA\n"
          ]
        }
      ]
    },
    {
      "cell_type": "markdown",
      "source": [
        "# Method 3 using the loop construct"
      ],
      "metadata": {
        "id": "YFdSf2u5oMsh"
      }
    },
    {
      "cell_type": "code",
      "source": [
        "str = \"python\"\n",
        "\n",
        "reversed_str = []\n",
        "\n",
        "for ch in str:\n",
        "  reversed_str.insert(0,ch)\n",
        "print(''.join(reversed_str))"
      ],
      "metadata": {
        "colab": {
          "base_uri": "https://localhost:8080/"
        },
        "id": "1a91_KQYn8T1",
        "outputId": "59fb7744-5f5f-47e0-f9a7-af9c3ea89e95"
      },
      "execution_count": 6,
      "outputs": [
        {
          "output_type": "stream",
          "name": "stdout",
          "text": [
            "nohtyp\n"
          ]
        }
      ]
    },
    {
      "cell_type": "code",
      "source": [],
      "metadata": {
        "id": "tdzZbkWxokwU"
      },
      "execution_count": null,
      "outputs": []
    }
  ]
}
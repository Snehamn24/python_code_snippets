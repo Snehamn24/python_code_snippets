{
  "nbformat": 4,
  "nbformat_minor": 0,
  "metadata": {
    "colab": {
      "provenance": [],
      "authorship_tag": "ABX9TyNDN7G8utaH9frsjc+EA7Zc",
      "include_colab_link": true
    },
    "kernelspec": {
      "name": "python3",
      "display_name": "Python 3"
    },
    "language_info": {
      "name": "python"
    }
  },
  "cells": [
    {
      "cell_type": "markdown",
      "metadata": {
        "id": "view-in-github",
        "colab_type": "text"
      },
      "source": [
        "<a href=\"https://colab.research.google.com/github/Snehamn24/python_code_snippets/blob/main/Python_snippets.ipynb\" target=\"_parent\"><img src=\"https://colab.research.google.com/assets/colab-badge.svg\" alt=\"Open In Colab\"/></a>"
      ]
    },
    {
      "cell_type": "markdown",
      "source": [
        "# Python Code Snippets"
      ],
      "metadata": {
        "id": "JdLlYa5H_4uB"
      }
    },
    {
      "cell_type": "markdown",
      "source": [
        "## 1 . Condition"
      ],
      "metadata": {
        "id": "WTHYPZI0AHxd"
      }
    },
    {
      "cell_type": "code",
      "source": [
        "if(0.1+0.2==0.3):\n",
        "  print('True')\n",
        "else:\n",
        "  print('False')"
      ],
      "metadata": {
        "colab": {
          "base_uri": "https://localhost:8080/"
        },
        "id": "AdBVqzAoAP08",
        "outputId": "3ffb3983-302f-4928-9e2c-d3aa1bb03258"
      },
      "execution_count": null,
      "outputs": [
        {
          "output_type": "stream",
          "name": "stdout",
          "text": [
            "False\n"
          ]
        }
      ]
    },
    {
      "cell_type": "markdown",
      "source": [
        "Why it prints False\n",
        "\n",
        "This is due to floating-point precision in Python (and most programming languages):\n",
        "\n",
        "0.1 and 0.2 cannot be represented exactly in binary floating-point.\n",
        "\n",
        "So 0.1 + 0.2 actually evaluates to something like 0.30000000000000004.\n",
        "\n",
        "This is not exactly equal to 0.3, so the condition fails."
      ],
      "metadata": {
        "id": "PtH3WkUjCPB2"
      }
    },
    {
      "cell_type": "markdown",
      "source": [
        "In order to get the True value we can go with the following code"
      ],
      "metadata": {
        "id": "v7fL2khjCbfl"
      }
    },
    {
      "cell_type": "code",
      "source": [
        "import math\n",
        "if(math.isclose(0.1+0.2,0.3)):\n",
        "  print(\"True\")\n",
        "else:\n",
        "  print(\"False\")"
      ],
      "metadata": {
        "colab": {
          "base_uri": "https://localhost:8080/"
        },
        "id": "hnyaFnhJChqQ",
        "outputId": "6f8e1425-ac9c-42ad-d878-2a9d84d9988e"
      },
      "execution_count": null,
      "outputs": [
        {
          "output_type": "stream",
          "name": "stdout",
          "text": [
            "True\n"
          ]
        }
      ]
    },
    {
      "cell_type": "markdown",
      "source": [
        "2 . Moving the Zeros to the end of the list from the given list"
      ],
      "metadata": {
        "id": "hboaSMxVEGJC"
      }
    },
    {
      "cell_type": "code",
      "source": [
        "my_list = [1,2,0,3,0,4,5]\n",
        "\n",
        "for ele in my_list:\n",
        "  if ele==0:\n",
        "    my_list.remove(ele)\n",
        "    my_list.append(ele)\n",
        "\n",
        "print(my_list)"
      ],
      "metadata": {
        "colab": {
          "base_uri": "https://localhost:8080/"
        },
        "id": "eg2VFqNTEPft",
        "outputId": "71fd3383-a75c-44e7-de3f-c7dd6924a13b"
      },
      "execution_count": null,
      "outputs": [
        {
          "output_type": "stream",
          "name": "stdout",
          "text": [
            "[1, 2, 3, 4, 5, 0, 0]\n"
          ]
        }
      ]
    },
    {
      "cell_type": "markdown",
      "source": [
        "3 . Division"
      ],
      "metadata": {
        "id": "GcZWrmaGEnjv"
      }
    },
    {
      "cell_type": "code",
      "source": [
        "a = 4.5\n",
        "b = 2\n",
        "print(a//b)"
      ],
      "metadata": {
        "colab": {
          "base_uri": "https://localhost:8080/"
        },
        "id": "5Xcea7GIExFm",
        "outputId": "dbcb8bb8-e114-42c2-e7c3-9ada68cc2da5"
      },
      "execution_count": null,
      "outputs": [
        {
          "output_type": "stream",
          "name": "stdout",
          "text": [
            "2.0\n"
          ]
        }
      ]
    },
    {
      "cell_type": "markdown",
      "source": [
        "4 . Write a function that takes s sentence , and returns the longest even-length word in the sentence . Or if it has no even -length words , return \"00\"."
      ],
      "metadata": {
        "id": "PDw2ZH4OFJPG"
      }
    },
    {
      "cell_type": "code",
      "source": [],
      "metadata": {
        "id": "NpjR5VZtFlWY"
      },
      "execution_count": null,
      "outputs": []
    },
    {
      "cell_type": "markdown",
      "source": [
        "5 . Conditional"
      ],
      "metadata": {
        "id": "CwMINbT9Fqw5"
      }
    },
    {
      "cell_type": "code",
      "source": [
        "name = \"python\"\n",
        "\n",
        "if(name==\"java\" or name==\"css\"):\n",
        "  print(\"Yes\")\n",
        "else:\n",
        "  print(\"False\")"
      ],
      "metadata": {
        "colab": {
          "base_uri": "https://localhost:8080/"
        },
        "id": "qrJ9I6k5GG_K",
        "outputId": "7cc2faba-14c5-4328-8c25-cf77079fb648"
      },
      "execution_count": null,
      "outputs": [
        {
          "output_type": "stream",
          "name": "stdout",
          "text": [
            "False\n"
          ]
        }
      ]
    },
    {
      "cell_type": "markdown",
      "source": [
        "6 . for-else in Python"
      ],
      "metadata": {
        "id": "My0qHDmpGX0H"
      }
    },
    {
      "cell_type": "code",
      "source": [
        "a = [1,2,3,4,5]\n",
        "\n",
        "for ele in a:\n",
        "  if(ele==3):\n",
        "    break\n",
        "else:\n",
        "  print(\"For else\")"
      ],
      "metadata": {
        "id": "KdqfNrcSGrTz"
      },
      "execution_count": null,
      "outputs": []
    },
    {
      "cell_type": "code",
      "source": [
        "a = [1,2,3,4,5]\n",
        "\n",
        "for ele in a:\n",
        "  if(ele==3):\n",
        "    print(ele)\n",
        "else:\n",
        "  print(\"For else\")"
      ],
      "metadata": {
        "colab": {
          "base_uri": "https://localhost:8080/"
        },
        "id": "0GPUYFr7G2Oh",
        "outputId": "6812bb91-6438-4bcf-8f6d-3db7e8075f4c"
      },
      "execution_count": null,
      "outputs": [
        {
          "output_type": "stream",
          "name": "stdout",
          "text": [
            "3\n",
            "For else\n"
          ]
        }
      ]
    },
    {
      "cell_type": "markdown",
      "source": [
        "How for-else works:\n",
        "\n",
        "The else block executes only if the loop completes normally (i.e., no break occurs).\n",
        "\n",
        "If break is executed, the else block is skipped."
      ],
      "metadata": {
        "id": "5PS66dlWIq2_"
      }
    },
    {
      "cell_type": "markdown",
      "source": [
        "# 7 . Reversing a String - Method 1"
      ],
      "metadata": {
        "id": "PacqsqxHneBG"
      }
    },
    {
      "cell_type": "code",
      "source": [
        "str = \"python\"\n",
        "print(\"original String \",str)\n",
        "\n",
        "reversed_str = str[::-1]\n",
        "print(\"reversed String \",reversed_str)\n"
      ],
      "metadata": {
        "colab": {
          "base_uri": "https://localhost:8080/"
        },
        "id": "Ry7A3ZkOIxzW",
        "outputId": "8639a29d-be39-41b6-d4d7-536d44281b6d"
      },
      "execution_count": null,
      "outputs": [
        {
          "output_type": "stream",
          "name": "stdout",
          "text": [
            "original String  python\n",
            "reversed String  nohtyp\n"
          ]
        }
      ]
    },
    {
      "cell_type": "markdown",
      "source": [
        "Method 2 using the join and reversed ()\n",
        "\n"
      ],
      "metadata": {
        "id": "XnjVDtVmnZgf"
      }
    },
    {
      "cell_type": "code",
      "source": [
        "str = \"ABC\"\n",
        "\n",
        "reversed_string = ''.join(reversed(str))\n",
        "print(reversed_string)"
      ],
      "metadata": {
        "colab": {
          "base_uri": "https://localhost:8080/"
        },
        "id": "weGlUud1nNA6",
        "outputId": "41752e24-631c-4c57-a432-a1072091a711"
      },
      "execution_count": null,
      "outputs": [
        {
          "output_type": "stream",
          "name": "stdout",
          "text": [
            "CBA\n"
          ]
        }
      ]
    },
    {
      "cell_type": "markdown",
      "source": [
        "# Method 3 using the loop construct"
      ],
      "metadata": {
        "id": "YFdSf2u5oMsh"
      }
    },
    {
      "cell_type": "code",
      "source": [
        "str = \"python\"\n",
        "\n",
        "reversed_str = []\n",
        "\n",
        "for ch in str:\n",
        "  reversed_str.insert(0,ch)\n",
        "print(''.join(reversed_str))"
      ],
      "metadata": {
        "colab": {
          "base_uri": "https://localhost:8080/"
        },
        "id": "1a91_KQYn8T1",
        "outputId": "59fb7744-5f5f-47e0-f9a7-af9c3ea89e95"
      },
      "execution_count": null,
      "outputs": [
        {
          "output_type": "stream",
          "name": "stdout",
          "text": [
            "nohtyp\n"
          ]
        }
      ]
    },
    {
      "cell_type": "markdown",
      "source": [
        "# 8 . Check if the String is Palindrome or not"
      ],
      "metadata": {
        "id": "DuSL7cmWp8l1"
      }
    },
    {
      "cell_type": "code",
      "source": [
        "str = \"Mum\"\n",
        "\n",
        "str = str.lower()\n",
        "\n",
        "reversed_string = str[::-1]\n",
        "\n",
        "if(str==reversed_string):\n",
        "  print(\"String is palindrome\")\n",
        "else:\n",
        "  print(\"String is not Palindrome\")"
      ],
      "metadata": {
        "colab": {
          "base_uri": "https://localhost:8080/"
        },
        "id": "tdzZbkWxokwU",
        "outputId": "e5587e47-8977-4547-b0e1-7f67b89bf064"
      },
      "execution_count": null,
      "outputs": [
        {
          "output_type": "stream",
          "name": "stdout",
          "text": [
            "String is palindrome\n"
          ]
        }
      ]
    },
    {
      "cell_type": "markdown",
      "source": [
        "# 9 . Counting number of vowels and consonants"
      ],
      "metadata": {
        "id": "krD_vpOhrzCg"
      }
    },
    {
      "cell_type": "code",
      "source": [
        "str = \"Python\"\n",
        "\n",
        "vowels = ['a','e','i','o','u']\n",
        "\n",
        "str = str.lower()\n",
        "\n",
        "vowel_count = 0\n",
        "Consonant_count = 0\n",
        "\n",
        "for ch in str:\n",
        "  if ch in vowels:\n",
        "    vowel_count+=1\n",
        "  else:\n",
        "    Consonant_count+=1\n",
        "print(\"Vowels : \",vowel_count)\n",
        "print(\"Consonant : \",Consonant_count)"
      ],
      "metadata": {
        "colab": {
          "base_uri": "https://localhost:8080/"
        },
        "id": "lENuj9nbqTei",
        "outputId": "58492db4-1a07-4025-be6f-b2bf0d1e0ada"
      },
      "execution_count": null,
      "outputs": [
        {
          "output_type": "stream",
          "name": "stdout",
          "text": [
            "Vowels :  1\n",
            "Consonant :  5\n"
          ]
        }
      ]
    },
    {
      "cell_type": "markdown",
      "source": [
        "# 10 . Check whether the 2 strings are Anagrams"
      ],
      "metadata": {
        "id": "P8h2wH4y6PFl"
      }
    },
    {
      "cell_type": "code",
      "source": [
        "def anagram_or_not(str1,str2):\n",
        "  str1 = sorted(str1.lower().replace(\" \",\"\"))\n",
        "  str2 = sorted(str2.lower().replace(\" \",\"\"))\n",
        "  return str1==str2\n",
        "\n",
        "str1 = \"silent\"\n",
        "str2 = \"listen\"\n",
        "\n",
        "if anagram_or_not(str1,str2):\n",
        "  print(f\"{str1} and {str2} are anagrams\")\n",
        "else:\n",
        "  print(f\"{str1} and {str2} are not angrams\")"
      ],
      "metadata": {
        "colab": {
          "base_uri": "https://localhost:8080/"
        },
        "id": "rmPQuZUxr-An",
        "outputId": "51eb6987-ae7d-4381-bff4-b0d3ae22b889"
      },
      "execution_count": null,
      "outputs": [
        {
          "output_type": "stream",
          "name": "stdout",
          "text": [
            "silent and listen are anagrams\n"
          ]
        }
      ]
    },
    {
      "cell_type": "markdown",
      "source": [
        "# 11 . Factorial of a number"
      ],
      "metadata": {
        "id": "qHV9sru38LyA"
      }
    },
    {
      "cell_type": "code",
      "source": [
        "def fact(n):\n",
        "  if n==0:\n",
        "    return 1\n",
        "  elif n==1:\n",
        "    return 1\n",
        "  else:\n",
        "    return n*fact(n-1)\n",
        "\n",
        "n = 5\n",
        "print(fact(n))\n"
      ],
      "metadata": {
        "colab": {
          "base_uri": "https://localhost:8080/"
        },
        "id": "Ej2E6pEk7Xo2",
        "outputId": "a550b9c7-9027-4c2e-abac-10b48686cbc9"
      },
      "execution_count": null,
      "outputs": [
        {
          "output_type": "stream",
          "name": "stdout",
          "text": [
            "120\n"
          ]
        }
      ]
    },
    {
      "cell_type": "markdown",
      "source": [
        "# 12 . Convert from list to the string"
      ],
      "metadata": {
        "id": "b_UkpK5EM-zy"
      }
    },
    {
      "cell_type": "code",
      "source": [
        "my_list = ['a','e','i','o','u']\n",
        "\n",
        "print(type(my_list))\n",
        "\n",
        "str = ''.join(my_list)\n",
        "\n",
        "print(str)\n",
        "print(type(str))"
      ],
      "metadata": {
        "colab": {
          "base_uri": "https://localhost:8080/"
        },
        "id": "ryhlCyZ29FOk",
        "outputId": "6e2f7fd1-d3b3-446f-addd-d5360b4c2e07"
      },
      "execution_count": null,
      "outputs": [
        {
          "output_type": "stream",
          "name": "stdout",
          "text": [
            "<class 'list'>\n",
            "aeiou\n",
            "<class 'str'>\n"
          ]
        }
      ]
    },
    {
      "cell_type": "markdown",
      "source": [
        "13 . Permutations from the itertools"
      ],
      "metadata": {
        "id": "eHuwFGCIuya0"
      }
    },
    {
      "cell_type": "code",
      "source": [
        "from itertools import permutations\n",
        "\n",
        "#string Permutations\n",
        "str = \"BCA\"\n",
        "\n",
        "for i in permutations(str):\n",
        "  print(\"\".join(i))\n"
      ],
      "metadata": {
        "colab": {
          "base_uri": "https://localhost:8080/"
        },
        "id": "A1fd3EtZNR8-",
        "outputId": "63f9f9d7-9481-4dd3-f9f3-86c4ecec021b"
      },
      "execution_count": null,
      "outputs": [
        {
          "output_type": "stream",
          "name": "stdout",
          "text": [
            "BCA\n",
            "BAC\n",
            "CBA\n",
            "CAB\n",
            "ABC\n",
            "ACB\n"
          ]
        }
      ]
    },
    {
      "cell_type": "code",
      "source": [
        "#permutations of the particular size\n",
        "from itertools import permutations\n",
        "\n",
        "my_list = [1,2,3,4]\n",
        "\n",
        "for i in permutations(my_list,3):\n",
        "  print(i)\n",
        "\n"
      ],
      "metadata": {
        "colab": {
          "base_uri": "https://localhost:8080/"
        },
        "id": "fxJ8p2tHvF3R",
        "outputId": "3b5ade46-a53d-4166-c65a-c36fb8b84cd9"
      },
      "execution_count": null,
      "outputs": [
        {
          "output_type": "stream",
          "name": "stdout",
          "text": [
            "(1, 2, 3)\n",
            "(1, 2, 4)\n",
            "(1, 3, 2)\n",
            "(1, 3, 4)\n",
            "(1, 4, 2)\n",
            "(1, 4, 3)\n",
            "(2, 1, 3)\n",
            "(2, 1, 4)\n",
            "(2, 3, 1)\n",
            "(2, 3, 4)\n",
            "(2, 4, 1)\n",
            "(2, 4, 3)\n",
            "(3, 1, 2)\n",
            "(3, 1, 4)\n",
            "(3, 2, 1)\n",
            "(3, 2, 4)\n",
            "(3, 4, 1)\n",
            "(3, 4, 2)\n",
            "(4, 1, 2)\n",
            "(4, 1, 3)\n",
            "(4, 2, 1)\n",
            "(4, 2, 3)\n",
            "(4, 3, 1)\n",
            "(4, 3, 2)\n"
          ]
        }
      ]
    },
    {
      "cell_type": "markdown",
      "source": [
        "# 14 . groupby() from the itertools"
      ],
      "metadata": {
        "id": "azb_qWycaVpJ"
      }
    },
    {
      "cell_type": "code",
      "source": [
        "from itertools import groupby\n",
        "\n",
        "my_list = [1,1,2,2,2,2,3,4]\n",
        "\n",
        "for i , group in groupby(my_list):\n",
        "  print(i,list(group))"
      ],
      "metadata": {
        "colab": {
          "base_uri": "https://localhost:8080/"
        },
        "id": "RHbfJ2QSv0GL",
        "outputId": "48bf1e9e-81a9-4057-df40-b0daea8fd235"
      },
      "execution_count": null,
      "outputs": [
        {
          "output_type": "stream",
          "name": "stdout",
          "text": [
            "1 [1, 1]\n",
            "2 [2, 2, 2, 2]\n",
            "3 [3]\n",
            "4 [4]\n"
          ]
        }
      ]
    },
    {
      "cell_type": "markdown",
      "source": [
        "# 15 . program to check whether the given number is perfect number"
      ],
      "metadata": {
        "id": "ehpr8zgqoIbM"
      }
    },
    {
      "cell_type": "code",
      "source": [
        "n = int(input())\n",
        "\n",
        "divisor_sum = 0\n",
        "\n",
        "for i in range(1,n):\n",
        "  if n%i==0:\n",
        "    divisor_sum+=i\n",
        "if(divisor_sum==n):\n",
        "  print(\"YEs\")\n",
        "else:\n",
        "  print(\"no\")"
      ],
      "metadata": {
        "colab": {
          "base_uri": "https://localhost:8080/"
        },
        "id": "Jj7wa5MUa7DG",
        "outputId": "07cbe1d4-93e4-47e0-d13f-121119c858b6"
      },
      "execution_count": null,
      "outputs": [
        {
          "output_type": "stream",
          "name": "stdout",
          "text": [
            "28\n",
            "YEs\n"
          ]
        }
      ]
    },
    {
      "cell_type": "markdown",
      "source": [
        "# 16 . Loop"
      ],
      "metadata": {
        "id": "7MfxQJ2rm0RM"
      }
    },
    {
      "cell_type": "code",
      "source": [
        "a = 5\n",
        "for i in range(a):\n",
        "  if i==3:\n",
        "    continue\n",
        "  print(a)"
      ],
      "metadata": {
        "id": "ivVehlnRqcA9",
        "colab": {
          "base_uri": "https://localhost:8080/"
        },
        "outputId": "467d5c10-9d9e-4432-fb7b-582ac76ccbfa"
      },
      "execution_count": 1,
      "outputs": [
        {
          "output_type": "stream",
          "name": "stdout",
          "text": [
            "5\n",
            "5\n",
            "5\n",
            "5\n"
          ]
        }
      ]
    },
    {
      "cell_type": "markdown",
      "source": [
        "# 17 . Reversing a string without the slicing and the loops"
      ],
      "metadata": {
        "id": "6urE39pIn2Ev"
      }
    },
    {
      "cell_type": "code",
      "source": [
        "def rev(str):\n",
        "  if len(str)==0:\n",
        "    return str\n",
        "  return rev(str[1:])+str[0]\n",
        "rev(\"Apple\")"
      ],
      "metadata": {
        "colab": {
          "base_uri": "https://localhost:8080/",
          "height": 36
        },
        "id": "aafXOJzHnCZq",
        "outputId": "ac2b89e1-2dfd-4af1-f8e4-b4a34a09f58f"
      },
      "execution_count": 5,
      "outputs": [
        {
          "output_type": "execute_result",
          "data": {
            "text/plain": [
              "'elppA'"
            ],
            "application/vnd.google.colaboratory.intrinsic+json": {
              "type": "string"
            }
          },
          "metadata": {},
          "execution_count": 5
        }
      ]
    },
    {
      "cell_type": "markdown",
      "source": [
        "# 18 . Multiplication of two numbers with the + operator"
      ],
      "metadata": {
        "id": "Vx95CA77xHUe"
      }
    },
    {
      "cell_type": "code",
      "source": [
        "def mul(a,b):\n",
        "  a1 = a\n",
        "  for i in range(b-1):\n",
        "    a+=a1\n",
        "  print(a)\n",
        "\n",
        "mul(4,3)"
      ],
      "metadata": {
        "colab": {
          "base_uri": "https://localhost:8080/"
        },
        "id": "1ZOHAxlooWf5",
        "outputId": "b6e8f450-efe0-45c6-dfa0-ee54b5c7d5d2"
      },
      "execution_count": 7,
      "outputs": [
        {
          "output_type": "stream",
          "name": "stdout",
          "text": [
            "12\n"
          ]
        }
      ]
    },
    {
      "cell_type": "markdown",
      "source": [
        "# 18 . Checking the output"
      ],
      "metadata": {
        "id": "lPTbfh-sypob"
      }
    },
    {
      "cell_type": "code",
      "source": [
        "x = [1,2,3]\n",
        "y = x.reverse()\n",
        "print(y) #the answer is none because it reverses the string in the same string and does not return any value , so the output is none\n",
        "print(x)\n"
      ],
      "metadata": {
        "colab": {
          "base_uri": "https://localhost:8080/"
        },
        "id": "fwpF73f7xsWt",
        "outputId": "b21d49a8-649f-424d-c051-c9808bc3f986"
      },
      "execution_count": 10,
      "outputs": [
        {
          "output_type": "stream",
          "name": "stdout",
          "text": [
            "None\n",
            "[3, 2, 1]\n"
          ]
        }
      ]
    },
    {
      "cell_type": "markdown",
      "source": [
        "# 19 . **Generator**"
      ],
      "metadata": {
        "id": "TYvohe_S0SZs"
      }
    },
    {
      "cell_type": "code",
      "source": [
        "gen = (x for x in range(3))\n",
        "print(list(gen))\n",
        "print(list(gen))\n",
        "#Key point: Generators can be iterated only once. After that, they are empty."
      ],
      "metadata": {
        "colab": {
          "base_uri": "https://localhost:8080/"
        },
        "id": "Dms1baRIyyBi",
        "outputId": "8c6e95d7-d8e1-4024-d21e-d25b6d554118"
      },
      "execution_count": 11,
      "outputs": [
        {
          "output_type": "stream",
          "name": "stdout",
          "text": [
            "[0, 1, 2]\n",
            "[]\n"
          ]
        }
      ]
    },
    {
      "cell_type": "markdown",
      "source": [
        "# 20 . create a class and object"
      ],
      "metadata": {
        "id": "vrdjjH_6cwXc"
      }
    },
    {
      "cell_type": "code",
      "source": [
        "#Syntax - class\n",
        "#class class_name\n",
        "\n",
        "#syntax - object\n",
        "#object_name = class_name()\n",
        "\n",
        "class py:\n",
        "  x = 5\n",
        "\n",
        "p = py()\n",
        "print(p.x)"
      ],
      "metadata": {
        "colab": {
          "base_uri": "https://localhost:8080/"
        },
        "id": "S9nY2MqZz7MF",
        "outputId": "89993dbf-7bdc-4f98-ef22-7e95dcbe8eb2"
      },
      "execution_count": 3,
      "outputs": [
        {
          "output_type": "stream",
          "name": "stdout",
          "text": [
            "5\n"
          ]
        }
      ]
    },
    {
      "cell_type": "code",
      "source": [
        "class one:\n",
        "  a = 1\n",
        "a1 = one()\n",
        "print(a1.a)"
      ],
      "metadata": {
        "colab": {
          "base_uri": "https://localhost:8080/"
        },
        "id": "XyVTnluDdpbb",
        "outputId": "cd9816f5-fac7-4513-cb4b-28023b736a11"
      },
      "execution_count": 3,
      "outputs": [
        {
          "output_type": "stream",
          "name": "stdout",
          "text": [
            "1\n"
          ]
        }
      ]
    },
    {
      "cell_type": "markdown",
      "source": [
        "# Deleting the Objects - we can use the del keyword to delete the object"
      ],
      "metadata": {
        "id": "RP9zs_HqfedJ"
      }
    },
    {
      "cell_type": "code",
      "source": [
        "del a1"
      ],
      "metadata": {
        "id": "ILlOaeJTfHEl"
      },
      "execution_count": 5,
      "outputs": []
    },
    {
      "cell_type": "code",
      "source": [
        "print(a1.a)"
      ],
      "metadata": {
        "colab": {
          "base_uri": "https://localhost:8080/",
          "height": 141
        },
        "id": "XyIyT6lCfnTl",
        "outputId": "b4a6ba27-ba55-4d32-9d9e-691973a37b73"
      },
      "execution_count": 6,
      "outputs": [
        {
          "output_type": "error",
          "ename": "NameError",
          "evalue": "name 'a1' is not defined",
          "traceback": [
            "\u001b[0;31m---------------------------------------------------------------------------\u001b[0m",
            "\u001b[0;31mNameError\u001b[0m                                 Traceback (most recent call last)",
            "\u001b[0;32m/tmp/ipython-input-805978757.py\u001b[0m in \u001b[0;36m<cell line: 0>\u001b[0;34m()\u001b[0m\n\u001b[0;32m----> 1\u001b[0;31m \u001b[0mprint\u001b[0m\u001b[0;34m(\u001b[0m\u001b[0ma1\u001b[0m\u001b[0;34m.\u001b[0m\u001b[0ma\u001b[0m\u001b[0;34m)\u001b[0m\u001b[0;34m\u001b[0m\u001b[0;34m\u001b[0m\u001b[0m\n\u001b[0m",
            "\u001b[0;31mNameError\u001b[0m: name 'a1' is not defined"
          ]
        }
      ]
    },
    {
      "cell_type": "code",
      "source": [],
      "metadata": {
        "id": "o_dXyR0K31-N"
      },
      "execution_count": null,
      "outputs": []
    },
    {
      "cell_type": "markdown",
      "source": [
        "# We can Create multiple objects for the same class"
      ],
      "metadata": {
        "id": "RkGMOEyS31BQ"
      }
    },
    {
      "cell_type": "code",
      "source": [
        "a1 = one()\n",
        "a2 = one()\n",
        "print(a1.a)\n",
        "print(a2.a)"
      ],
      "metadata": {
        "colab": {
          "base_uri": "https://localhost:8080/"
        },
        "id": "CebpCwdOfowv",
        "outputId": "d5433098-73b3-4469-d983-3695fac6f711"
      },
      "execution_count": 4,
      "outputs": [
        {
          "output_type": "stream",
          "name": "stdout",
          "text": [
            "1\n",
            "1\n"
          ]
        }
      ]
    },
    {
      "cell_type": "code",
      "source": [],
      "metadata": {
        "id": "-lCmwpXk4GhM"
      },
      "execution_count": null,
      "outputs": []
    }
  ]
}
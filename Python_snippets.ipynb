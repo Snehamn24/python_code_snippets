{
  "nbformat": 4,
  "nbformat_minor": 0,
  "metadata": {
    "colab": {
      "provenance": [],
      "authorship_tag": "ABX9TyN1M+TZ6s5pEmD9m+Gi62Xh",
      "include_colab_link": true
    },
    "kernelspec": {
      "name": "python3",
      "display_name": "Python 3"
    },
    "language_info": {
      "name": "python"
    }
  },
  "cells": [
    {
      "cell_type": "markdown",
      "metadata": {
        "id": "view-in-github",
        "colab_type": "text"
      },
      "source": [
        "<a href=\"https://colab.research.google.com/github/Snehamn24/python_code_snippets/blob/main/Python_snippets.ipynb\" target=\"_parent\"><img src=\"https://colab.research.google.com/assets/colab-badge.svg\" alt=\"Open In Colab\"/></a>"
      ]
    },
    {
      "cell_type": "markdown",
      "source": [
        "# Python Code Snippets"
      ],
      "metadata": {
        "id": "JdLlYa5H_4uB"
      }
    },
    {
      "cell_type": "markdown",
      "source": [
        "## 1 . Condition"
      ],
      "metadata": {
        "id": "WTHYPZI0AHxd"
      }
    },
    {
      "cell_type": "code",
      "source": [
        "if(0.1+0.2==0.3):\n",
        "  print('True')\n",
        "else:\n",
        "  print('False')"
      ],
      "metadata": {
        "colab": {
          "base_uri": "https://localhost:8080/"
        },
        "id": "AdBVqzAoAP08",
        "outputId": "3ffb3983-302f-4928-9e2c-d3aa1bb03258"
      },
      "execution_count": 1,
      "outputs": [
        {
          "output_type": "stream",
          "name": "stdout",
          "text": [
            "False\n"
          ]
        }
      ]
    },
    {
      "cell_type": "markdown",
      "source": [
        "Why it prints False\n",
        "\n",
        "This is due to floating-point precision in Python (and most programming languages):\n",
        "\n",
        "0.1 and 0.2 cannot be represented exactly in binary floating-point.\n",
        "\n",
        "So 0.1 + 0.2 actually evaluates to something like 0.30000000000000004.\n",
        "\n",
        "This is not exactly equal to 0.3, so the condition fails."
      ],
      "metadata": {
        "id": "PtH3WkUjCPB2"
      }
    },
    {
      "cell_type": "markdown",
      "source": [
        "In order to get the True value we can go with the following code"
      ],
      "metadata": {
        "id": "v7fL2khjCbfl"
      }
    },
    {
      "cell_type": "code",
      "source": [
        "import math\n",
        "if(math.isclose(0.1+0.2,0.3)):\n",
        "  print(\"True\")\n",
        "else:\n",
        "  print(\"False\")"
      ],
      "metadata": {
        "colab": {
          "base_uri": "https://localhost:8080/"
        },
        "id": "hnyaFnhJChqQ",
        "outputId": "6f8e1425-ac9c-42ad-d878-2a9d84d9988e"
      },
      "execution_count": 2,
      "outputs": [
        {
          "output_type": "stream",
          "name": "stdout",
          "text": [
            "True\n"
          ]
        }
      ]
    },
    {
      "cell_type": "markdown",
      "source": [
        "2 . Moving the Zeros to the end of the list from the given list"
      ],
      "metadata": {
        "id": "hboaSMxVEGJC"
      }
    },
    {
      "cell_type": "code",
      "source": [
        "my_list = [1,2,0,3,0,4,5]\n",
        "\n",
        "for ele in my_list:\n",
        "  if ele==0:\n",
        "    my_list.remove(ele)\n",
        "    my_list.append(ele)\n",
        "\n",
        "print(my_list)"
      ],
      "metadata": {
        "colab": {
          "base_uri": "https://localhost:8080/"
        },
        "id": "eg2VFqNTEPft",
        "outputId": "71fd3383-a75c-44e7-de3f-c7dd6924a13b"
      },
      "execution_count": 3,
      "outputs": [
        {
          "output_type": "stream",
          "name": "stdout",
          "text": [
            "[1, 2, 3, 4, 5, 0, 0]\n"
          ]
        }
      ]
    },
    {
      "cell_type": "markdown",
      "source": [
        "3 . Division"
      ],
      "metadata": {
        "id": "GcZWrmaGEnjv"
      }
    },
    {
      "cell_type": "code",
      "source": [
        "a = 4.5\n",
        "b = 2\n",
        "print(a//b)"
      ],
      "metadata": {
        "colab": {
          "base_uri": "https://localhost:8080/"
        },
        "id": "5Xcea7GIExFm",
        "outputId": "dbcb8bb8-e114-42c2-e7c3-9ada68cc2da5"
      },
      "execution_count": 4,
      "outputs": [
        {
          "output_type": "stream",
          "name": "stdout",
          "text": [
            "2.0\n"
          ]
        }
      ]
    },
    {
      "cell_type": "markdown",
      "source": [
        "4 . Write a function that takes s sentence , and returns the longest even-length word in the sentence . Or if it has no even -length words , return \"00\"."
      ],
      "metadata": {
        "id": "PDw2ZH4OFJPG"
      }
    },
    {
      "cell_type": "code",
      "source": [],
      "metadata": {
        "id": "NpjR5VZtFlWY"
      },
      "execution_count": null,
      "outputs": []
    },
    {
      "cell_type": "markdown",
      "source": [
        "5 . Conditional"
      ],
      "metadata": {
        "id": "CwMINbT9Fqw5"
      }
    },
    {
      "cell_type": "code",
      "source": [
        "name = \"python\"\n",
        "\n",
        "if(name==\"java\" or name==\"css\"):\n",
        "  print(\"Yes\")\n",
        "else:\n",
        "  print(\"False\")"
      ],
      "metadata": {
        "colab": {
          "base_uri": "https://localhost:8080/"
        },
        "id": "qrJ9I6k5GG_K",
        "outputId": "7cc2faba-14c5-4328-8c25-cf77079fb648"
      },
      "execution_count": 5,
      "outputs": [
        {
          "output_type": "stream",
          "name": "stdout",
          "text": [
            "False\n"
          ]
        }
      ]
    },
    {
      "cell_type": "markdown",
      "source": [
        "6 . for-else in Python"
      ],
      "metadata": {
        "id": "My0qHDmpGX0H"
      }
    },
    {
      "cell_type": "code",
      "source": [
        "a = [1,2,3,4,5]\n",
        "\n",
        "for ele in a:\n",
        "  if(ele==3):\n",
        "    break\n",
        "else:\n",
        "  print(\"For else\")"
      ],
      "metadata": {
        "id": "KdqfNrcSGrTz"
      },
      "execution_count": 6,
      "outputs": []
    },
    {
      "cell_type": "code",
      "source": [
        "a = [1,2,3,4,5]\n",
        "\n",
        "for ele in a:\n",
        "  if(ele==3):\n",
        "    print(ele)\n",
        "else:\n",
        "  print(\"For else\")"
      ],
      "metadata": {
        "colab": {
          "base_uri": "https://localhost:8080/"
        },
        "id": "0GPUYFr7G2Oh",
        "outputId": "6812bb91-6438-4bcf-8f6d-3db7e8075f4c"
      },
      "execution_count": 7,
      "outputs": [
        {
          "output_type": "stream",
          "name": "stdout",
          "text": [
            "3\n",
            "For else\n"
          ]
        }
      ]
    },
    {
      "cell_type": "markdown",
      "source": [
        "How for-else works:\n",
        "\n",
        "The else block executes only if the loop completes normally (i.e., no break occurs).\n",
        "\n",
        "If break is executed, the else block is skipped."
      ],
      "metadata": {
        "id": "5PS66dlWIq2_"
      }
    },
    {
      "cell_type": "markdown",
      "source": [
        "# 7 . Reversing a String - Method 1"
      ],
      "metadata": {
        "id": "PacqsqxHneBG"
      }
    },
    {
      "cell_type": "code",
      "source": [
        "str = \"python\"\n",
        "print(\"original String \",str)\n",
        "\n",
        "reversed_str = str[::-1]\n",
        "print(\"reversed String \",reversed_str)\n"
      ],
      "metadata": {
        "colab": {
          "base_uri": "https://localhost:8080/"
        },
        "id": "Ry7A3ZkOIxzW",
        "outputId": "8639a29d-be39-41b6-d4d7-536d44281b6d"
      },
      "execution_count": 1,
      "outputs": [
        {
          "output_type": "stream",
          "name": "stdout",
          "text": [
            "original String  python\n",
            "reversed String  nohtyp\n"
          ]
        }
      ]
    },
    {
      "cell_type": "markdown",
      "source": [
        "Method 2 using the join and reversed ()\n",
        "\n"
      ],
      "metadata": {
        "id": "XnjVDtVmnZgf"
      }
    },
    {
      "cell_type": "code",
      "source": [
        "str = \"ABC\"\n",
        "\n",
        "reversed_string = ''.join(reversed(str))\n",
        "print(reversed_string)"
      ],
      "metadata": {
        "colab": {
          "base_uri": "https://localhost:8080/"
        },
        "id": "weGlUud1nNA6",
        "outputId": "41752e24-631c-4c57-a432-a1072091a711"
      },
      "execution_count": 4,
      "outputs": [
        {
          "output_type": "stream",
          "name": "stdout",
          "text": [
            "CBA\n"
          ]
        }
      ]
    },
    {
      "cell_type": "markdown",
      "source": [
        "# Method 3 using the loop construct"
      ],
      "metadata": {
        "id": "YFdSf2u5oMsh"
      }
    },
    {
      "cell_type": "code",
      "source": [
        "str = \"python\"\n",
        "\n",
        "reversed_str = []\n",
        "\n",
        "for ch in str:\n",
        "  reversed_str.insert(0,ch)\n",
        "print(''.join(reversed_str))"
      ],
      "metadata": {
        "colab": {
          "base_uri": "https://localhost:8080/"
        },
        "id": "1a91_KQYn8T1",
        "outputId": "59fb7744-5f5f-47e0-f9a7-af9c3ea89e95"
      },
      "execution_count": 6,
      "outputs": [
        {
          "output_type": "stream",
          "name": "stdout",
          "text": [
            "nohtyp\n"
          ]
        }
      ]
    },
    {
      "cell_type": "markdown",
      "source": [
        "# 8 . Check if the String is Palindrome or not"
      ],
      "metadata": {
        "id": "DuSL7cmWp8l1"
      }
    },
    {
      "cell_type": "code",
      "source": [
        "str = \"Mum\"\n",
        "\n",
        "str = str.lower()\n",
        "\n",
        "reversed_string = str[::-1]\n",
        "\n",
        "if(str==reversed_string):\n",
        "  print(\"String is palindrome\")\n",
        "else:\n",
        "  print(\"String is not Palindrome\")"
      ],
      "metadata": {
        "colab": {
          "base_uri": "https://localhost:8080/"
        },
        "id": "tdzZbkWxokwU",
        "outputId": "e5587e47-8977-4547-b0e1-7f67b89bf064"
      },
      "execution_count": 9,
      "outputs": [
        {
          "output_type": "stream",
          "name": "stdout",
          "text": [
            "String is palindrome\n"
          ]
        }
      ]
    },
    {
      "cell_type": "markdown",
      "source": [
        "# 9 . Counting number of vowels and consonants"
      ],
      "metadata": {
        "id": "krD_vpOhrzCg"
      }
    },
    {
      "cell_type": "code",
      "source": [
        "str = \"Python\"\n",
        "\n",
        "vowels = ['a','e','i','o','u']\n",
        "\n",
        "str = str.lower()\n",
        "\n",
        "vowel_count = 0\n",
        "Consonant_count = 0\n",
        "\n",
        "for ch in str:\n",
        "  if ch in vowels:\n",
        "    vowel_count+=1\n",
        "  else:\n",
        "    Consonant_count+=1\n",
        "print(\"Vowels : \",vowel_count)\n",
        "print(\"Consonant : \",Consonant_count)"
      ],
      "metadata": {
        "colab": {
          "base_uri": "https://localhost:8080/"
        },
        "id": "lENuj9nbqTei",
        "outputId": "58492db4-1a07-4025-be6f-b2bf0d1e0ada"
      },
      "execution_count": 11,
      "outputs": [
        {
          "output_type": "stream",
          "name": "stdout",
          "text": [
            "Vowels :  1\n",
            "Consonant :  5\n"
          ]
        }
      ]
    },
    {
      "cell_type": "markdown",
      "source": [
        "# 10 . Check whether the 2 strings are Anagrams"
      ],
      "metadata": {
        "id": "P8h2wH4y6PFl"
      }
    },
    {
      "cell_type": "code",
      "source": [
        "def anagram_or_not(str1,str2):\n",
        "  str1 = sorted(str1.lower().replace(\" \",\"\"))\n",
        "  str2 = sorted(str2.lower().replace(\" \",\"\"))\n",
        "  return str1==str2\n",
        "\n",
        "str1 = \"silent\"\n",
        "str2 = \"listen\"\n",
        "\n",
        "if anagram_or_not(str1,str2):\n",
        "  print(f\"{str1} and {str2} are anagrams\")\n",
        "else:\n",
        "  print(f\"{str1} and {str2} are not angrams\")"
      ],
      "metadata": {
        "colab": {
          "base_uri": "https://localhost:8080/"
        },
        "id": "rmPQuZUxr-An",
        "outputId": "51eb6987-ae7d-4381-bff4-b0d3ae22b889"
      },
      "execution_count": 3,
      "outputs": [
        {
          "output_type": "stream",
          "name": "stdout",
          "text": [
            "silent and listen are anagrams\n"
          ]
        }
      ]
    },
    {
      "cell_type": "markdown",
      "source": [
        "# 11 . Factorial of a number"
      ],
      "metadata": {
        "id": "qHV9sru38LyA"
      }
    },
    {
      "cell_type": "code",
      "source": [
        "def fact(n):\n",
        "  if n==0:\n",
        "    return 1\n",
        "  elif n==1:\n",
        "    return 1\n",
        "  else:\n",
        "    return n*fact(n-1)\n",
        "\n",
        "n = 5\n",
        "print(fact(n))\n"
      ],
      "metadata": {
        "colab": {
          "base_uri": "https://localhost:8080/"
        },
        "id": "Ej2E6pEk7Xo2",
        "outputId": "a550b9c7-9027-4c2e-abac-10b48686cbc9"
      },
      "execution_count": 5,
      "outputs": [
        {
          "output_type": "stream",
          "name": "stdout",
          "text": [
            "120\n"
          ]
        }
      ]
    },
    {
      "cell_type": "markdown",
      "source": [
        "# 12 . Convert from list to the string"
      ],
      "metadata": {
        "id": "b_UkpK5EM-zy"
      }
    },
    {
      "cell_type": "code",
      "source": [
        "my_list = ['a','e','i','o','u']\n",
        "\n",
        "print(type(my_list))\n",
        "\n",
        "str = ''.join(my_list)\n",
        "\n",
        "print(str)\n",
        "print(type(str))"
      ],
      "metadata": {
        "colab": {
          "base_uri": "https://localhost:8080/"
        },
        "id": "ryhlCyZ29FOk",
        "outputId": "6e2f7fd1-d3b3-446f-addd-d5360b4c2e07"
      },
      "execution_count": 7,
      "outputs": [
        {
          "output_type": "stream",
          "name": "stdout",
          "text": [
            "<class 'list'>\n",
            "aeiou\n",
            "<class 'str'>\n"
          ]
        }
      ]
    },
    {
      "cell_type": "markdown",
      "source": [
        "13 . Permutations from the itertools"
      ],
      "metadata": {
        "id": "eHuwFGCIuya0"
      }
    },
    {
      "cell_type": "code",
      "source": [
        "from itertools import permutations\n",
        "\n",
        "#string Permutations\n",
        "str = \"BCA\"\n",
        "\n",
        "for i in permutations(str):\n",
        "  print(\"\".join(i))\n"
      ],
      "metadata": {
        "colab": {
          "base_uri": "https://localhost:8080/"
        },
        "id": "A1fd3EtZNR8-",
        "outputId": "63f9f9d7-9481-4dd3-f9f3-86c4ecec021b"
      },
      "execution_count": 2,
      "outputs": [
        {
          "output_type": "stream",
          "name": "stdout",
          "text": [
            "BCA\n",
            "BAC\n",
            "CBA\n",
            "CAB\n",
            "ABC\n",
            "ACB\n"
          ]
        }
      ]
    },
    {
      "cell_type": "code",
      "source": [
        "#permutations of the particular size\n",
        "from itertools import permutations\n",
        "\n",
        "my_list = [1,2,3,4]\n",
        "\n",
        "for i in permutations(my_list,3):\n",
        "  print(i)\n",
        "\n"
      ],
      "metadata": {
        "colab": {
          "base_uri": "https://localhost:8080/"
        },
        "id": "fxJ8p2tHvF3R",
        "outputId": "3b5ade46-a53d-4166-c65a-c36fb8b84cd9"
      },
      "execution_count": 5,
      "outputs": [
        {
          "output_type": "stream",
          "name": "stdout",
          "text": [
            "(1, 2, 3)\n",
            "(1, 2, 4)\n",
            "(1, 3, 2)\n",
            "(1, 3, 4)\n",
            "(1, 4, 2)\n",
            "(1, 4, 3)\n",
            "(2, 1, 3)\n",
            "(2, 1, 4)\n",
            "(2, 3, 1)\n",
            "(2, 3, 4)\n",
            "(2, 4, 1)\n",
            "(2, 4, 3)\n",
            "(3, 1, 2)\n",
            "(3, 1, 4)\n",
            "(3, 2, 1)\n",
            "(3, 2, 4)\n",
            "(3, 4, 1)\n",
            "(3, 4, 2)\n",
            "(4, 1, 2)\n",
            "(4, 1, 3)\n",
            "(4, 2, 1)\n",
            "(4, 2, 3)\n",
            "(4, 3, 1)\n",
            "(4, 3, 2)\n"
          ]
        }
      ]
    },
    {
      "cell_type": "code",
      "source": [],
      "metadata": {
        "id": "RHbfJ2QSv0GL"
      },
      "execution_count": null,
      "outputs": []
    }
  ]
}